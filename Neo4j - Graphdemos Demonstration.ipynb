{
 "cells": [
  {
   "cell_type": "markdown",
   "metadata": {},
   "source": [
    "## Demonstração do Neo4j usando o py2neo e dados do Twitter importados a partir do graphdemos.\n",
    "\n",
    "Fonte: Adaptado de https://github.com/nicolewhite/neo4j-jupyter (Nicole White)\n",
    "\n",
    "\n",
    "### Acessar o site e autorizar, com o seu usuário do twitter, para a geração do grafo com os dados da sua rede.\n",
    "http://network.graphdemos.com/\n",
    "\n",
    "** Anote a URL, usuário e senha gerados. **"
   ]
  },
  {
   "cell_type": "markdown",
   "metadata": {},
   "source": [
    "### Dados gerados para acesso a minha rede.\n",
    "#### Estes dados expiram em poucos dias, para gerar um novo grafo, acessar o site novamente e logar com o seu usuário do twitter.\n",
    "\n",
    "URL: http://54.167.103.160:32839\n",
    "\n",
    "- Username: neo4j\n",
    "- Password: stuff-americans-junction"
   ]
  },
  {
   "cell_type": "markdown",
   "metadata": {},
   "source": [
    "### Modelo de dados do grafo gerado com os dados do twitter.\n",
    "- É importante esclarecer que apenas uma parte dos dados do twitter são utilizados para a geração deste grafo. Para considerar mais dados considere utilizar a API oficial do Twitter para a aquisição dos dados."
   ]
  },
  {
   "cell_type": "code",
   "execution_count": 1,
   "metadata": {
    "collapsed": false
   },
   "outputs": [
    {
     "data": {
      "image/svg+xml": [
       "<svg height=\"270.9388732910156\" viewBox=\"-12.898134231567383 -14.758453369140625 329.9135437011719 270.9388732910156\" width=\"329.9135437011719\" xmlns=\"http://www.w3.org/2000/svg\"><title>Neo4j Graph Visualization</title><desc>Created using Neo4j (http://www.neo4j.com/)</desc><g class=\"layer relationships\"><g class=\"relationship\" transform=\"translate(235.55968718613587 219.68041527880305) rotate(180.2082706300223)\"><path class=\"outline\" d=\"M 31.26317983184346,-8.894581878976458 L 31.52199887694598,-7.92865605268739 A 212.93362130275693 212.93362130275693 0 0 1 62.073029418682374,-13.76303351735433 L 61.95768715453545,-14.756359325989877 A 213.93362130275693 213.93362130275693 0 0 0 31.26317983184346,-8.894581878976458 Z M 107.0942020852545,-15.203488821033943 L 106.99856061222229,-14.20807297394478 A 212.93362130275693 212.93362130275693 0 0 1 137.65917687547756,-8.980067817125281 L 136.94027817149816,-6.067477105504997 L 144.57503831992145,-7.788069293110079 L 138.6177084807834,-12.863522099285658 L 137.898809776804,-9.950931387665374 A 213.93362130275693 213.93362130275693 0 0 0 107.0942020852545,-15.203488821033943\" fill=\"#A5ABB6\" stroke=\"none\"/><text fill=\"#000000\" font-family=\"sans-serif\" font-size=\"8px\" pointer-events=\"none\" text-anchor=\"middle\" transform=\"rotate(180 84.51907175035139 -15.673721691895139)\" x=\"84.51907175035139\" y=\"-12.673721691895139\">FOLLOWS</text></g><g class=\"relationship\" transform=\"translate(59.43274643778447 219.0401895799874) rotate(360.2082706300223)\"><path class=\"outline\" d=\"M 31.26317983184346,-8.894581878976458 L 31.52199887694598,-7.92865605268739 A 212.93362130275693 212.93362130275693 0 0 1 62.073029418682374,-13.76303351735433 L 61.95768715453545,-14.756359325989877 A 213.93362130275693 213.93362130275693 0 0 0 31.26317983184346,-8.894581878976458 Z M 107.0942020852545,-15.203488821033943 L 106.99856061222229,-14.20807297394478 A 212.93362130275693 212.93362130275693 0 0 1 137.65917687547756,-8.980067817125281 L 136.94027817149816,-6.067477105504997 L 144.57503831992145,-7.788069293110079 L 138.6177084807834,-12.863522099285658 L 137.898809776804,-9.950931387665374 A 213.93362130275693 213.93362130275693 0 0 0 107.0942020852545,-15.203488821033943\" fill=\"#A5ABB6\" stroke=\"none\"/><text fill=\"#000000\" font-family=\"sans-serif\" font-size=\"8px\" pointer-events=\"none\" text-anchor=\"middle\" x=\"84.51907175035139\" y=\"-12.673721691895139\">FOLLOWS</text></g><g class=\"relationship\" transform=\"translate(141.96819026524378 125.51579675181704) rotate(405.1748936225599)\"><path class=\"outline\" d=\"M 32.5 0.5 L 38.77079235601913 0.5 L 38.77079235601913 -0.5 L 32.5 -0.5 Z M 86.99344860601913 0.5 L 93.26424096203826 0.5 L 93.26424096203826 3.5 L 100.26424096203826 0 L 93.26424096203826 -3.5 L 93.26424096203826 -0.5 L 86.99344860601913 -0.5 Z\" fill=\"#A5ABB6\" stroke=\"none\"/><text fill=\"#000000\" font-family=\"sans-serif\" font-size=\"8px\" pointer-events=\"none\" text-anchor=\"middle\" x=\"62.88212048101913\" y=\"3\">MENTIONS</text></g><g class=\"relationship\" transform=\"translate(59.43274643778447 219.0401895799874) rotate(311.42846034034943)\"><path class=\"outline\" d=\"M 32.5 0.5 L 42.309089271083955 0.5 L 42.309089271083955 -0.5 L 32.5 -0.5 Z M 75.42627677108396 0.5 L 85.23536604216791 0.5 L 85.23536604216791 3.5 L 92.23536604216791 0 L 85.23536604216791 -3.5 L 85.23536604216791 -0.5 L 75.42627677108396 -0.5 Z\" fill=\"#A5ABB6\" stroke=\"none\"/><text fill=\"#000000\" font-family=\"sans-serif\" font-size=\"8px\" pointer-events=\"none\" text-anchor=\"middle\" x=\"58.867683021083955\" y=\"3\">POSTS</text></g><g class=\"relationship\" transform=\"translate(141.96819026524378 125.51579675181704) rotate(300.49580751333815)\"><path class=\"outline\" d=\"M 32.5 0.5 L 49.15125660689489 0.5 L 49.15125660689489 -0.5 L 32.5 -0.5 Z M 80.48719410689489 0.5 L 97.13845071378978 0.5 L 97.13845071378978 3.5 L 104.13845071378978 0 L 97.13845071378978 -3.5 L 97.13845071378978 -0.5 L 80.48719410689489 -0.5 Z\" fill=\"#A5ABB6\" stroke=\"none\"/><text fill=\"#000000\" font-family=\"sans-serif\" font-size=\"8px\" pointer-events=\"none\" text-anchor=\"middle\" x=\"64.81922535689489\" y=\"3\">USING</text></g><g class=\"relationship\" transform=\"translate(141.96819026524378 125.51579675181704) rotate(180.51776240927398)\"><path class=\"outline\" d=\"M 32.5 0.5 L 49.5900287958177 0.5 L 49.5900287958177 -0.5 L 32.5 -0.5 Z M 76.7814350458177 0.5 L 93.8714638416354 0.5 L 93.8714638416354 3.5 L 100.8714638416354 0 L 93.8714638416354 -3.5 L 93.8714638416354 -0.5 L 76.7814350458177 -0.5 Z\" fill=\"#A5ABB6\" stroke=\"none\"/><text fill=\"#000000\" font-family=\"sans-serif\" font-size=\"8px\" pointer-events=\"none\" text-anchor=\"middle\" transform=\"rotate(180 63.1857319208177 0)\" x=\"63.1857319208177\" y=\"3\">TAGS</text></g><g class=\"relationship\" transform=\"translate(141.96819026524378 125.51579675181704) rotate(231.74543118920002)\"><path class=\"outline\" d=\"M 32.5 0.5 L 47.18957685689668 0.5 L 47.18957685689668 -0.5 L 32.5 -0.5 Z M 93.93567060689668 0.5 L 108.62524746379336 0.5 L 108.62524746379336 3.5 L 115.62524746379336 0 L 108.62524746379336 -3.5 L 108.62524746379336 -0.5 L 93.93567060689668 -0.5 Z\" fill=\"#A5ABB6\" stroke=\"none\"/><text fill=\"#000000\" font-family=\"sans-serif\" font-size=\"8px\" pointer-events=\"none\" text-anchor=\"middle\" transform=\"rotate(180 70.56262373189668 0)\" x=\"70.56262373189668\" y=\"3\">CONTAINS</text></g><g class=\"relationship\" transform=\"translate(141.96819026524378 125.51579675181704) rotate(360.34445872669517)\"><path class=\"outline\" d=\"M 32.5 0.5 L 40.552205875657506 0.5 L 40.552205875657506 -0.5 L 32.5 -0.5 Z M 90.9975183756575 0.5 L 99.04972425131501 0.5 L 99.04972425131501 3.5 L 106.04972425131501 0 L 99.04972425131501 -3.5 L 99.04972425131501 -0.5 L 90.9975183756575 -0.5 Z\" fill=\"#A5ABB6\" stroke=\"none\"/><text fill=\"#000000\" font-family=\"sans-serif\" font-size=\"8px\" pointer-events=\"none\" text-anchor=\"middle\" x=\"65.7748621256575\" y=\"3\">RETWEETS</text></g></g><g class=\"layer nodes\"><g class=\"node\" transform=\"translate(235.55968718613587,219.68041527880305)\"><circle class=\"outline\" cx=\"0\" cy=\"0\" fill=\"#DE9BF9\" r=\"32.5\" stroke=\"#BF85D6\" stroke-width=\"2px\"/><text fill=\"#FFFFFF\" font-family=\"sans-serif\" font-size=\"10px\" pointer-events=\"none\" text-anchor=\"middle\" y=\"5\"> User</text></g><g class=\"node\" transform=\"translate(141.96819026524378,125.51579675181704)\"><circle class=\"outline\" cx=\"0\" cy=\"0\" fill=\"#FF756E\" r=\"32.5\" stroke=\"#E06760\" stroke-width=\"2px\"/><text fill=\"#FFFFFF\" font-family=\"sans-serif\" font-size=\"10px\" pointer-events=\"none\" text-anchor=\"middle\" y=\"5\"> Tweet</text></g><g class=\"node\" transform=\"translate(207.50276607433773,14.241546243085104)\"><circle class=\"outline\" cx=\"0\" cy=\"0\" fill=\"#6DCE9E\" r=\"25\" stroke=\"#60B58B\" stroke-width=\"2px\"/><text fill=\"#FFFFFF\" font-family=\"sans-serif\" font-size=\"10px\" pointer-events=\"none\" text-anchor=\"middle\" y=\"5\"> Source</text></g><g class=\"node\" transform=\"translate(54.89914451179809,15.087351612724806)\"><circle class=\"outline\" cx=\"0\" cy=\"0\" fill=\"#68BDF6\" r=\"25\" stroke=\"#5CA8DB\" stroke-width=\"2px\"/><text fill=\"#FFFFFF\" font-family=\"sans-serif\" font-size=\"10px\" pointer-events=\"none\" text-anchor=\"middle\" y=\"5\"> Link</text></g><g class=\"node\" transform=\"translate(16.101865796151348,124.37835476328647)\"><circle class=\"outline\" cx=\"0\" cy=\"0\" fill=\"#FFD86E\" r=\"25\" stroke=\"#EDBA39\" stroke-width=\"2px\"/><text fill=\"#604A0E\" font-family=\"sans-serif\" font-size=\"10px\" pointer-events=\"none\" text-anchor=\"middle\" y=\"5\"> Hashtag</text></g><g class=\"node\" transform=\"translate(59.43274643778447,219.0401895799874)\"><circle class=\"outline\" cx=\"0\" cy=\"0\" fill=\"#DE9BF9\" r=\"32.5\" stroke=\"#BF85D6\" stroke-width=\"2px\"/><text fill=\"#FFFFFF\" font-family=\"sans-serif\" font-size=\"10px\" pointer-events=\"none\" text-anchor=\"middle\" y=\"5\"> User</text></g><g class=\"node\" transform=\"translate(280.51541069438656,126.34874421351489)\"><circle class=\"outline\" cx=\"0\" cy=\"0\" fill=\"#FF756E\" r=\"32.5\" stroke=\"#E06760\" stroke-width=\"2px\"/><text fill=\"#FFFFFF\" font-family=\"sans-serif\" font-size=\"10px\" pointer-events=\"none\" text-anchor=\"middle\" y=\"5\"> Tweet</text></g></g></svg>"
      ],
      "text/plain": [
       "<IPython.core.display.SVG object>"
      ]
     },
     "execution_count": 1,
     "metadata": {},
     "output_type": "execute_result"
    }
   ],
   "source": [
    "from IPython.display import SVG\n",
    "SVG(\"images/twitter-data-model.svg\")"
   ]
  },
  {
   "cell_type": "code",
   "execution_count": 2,
   "metadata": {
    "collapsed": false
   },
   "outputs": [
    {
     "data": {
      "text/plain": [
       "(2, 2, 8)"
      ]
     },
     "execution_count": 2,
     "metadata": {},
     "output_type": "execute_result"
    }
   ],
   "source": [
    "from py2neo import Graph, authenticate, DBMS\n",
    "authenticate(\"54.167.103.160:32839\", \"neo4j\", \"stuff-americans-junction\")\n",
    "graph = Graph(\"http://54.167.103.160:32839/db/data/\")\n",
    "my_dbms = DBMS(\"http://54.167.103.160:32839\")\n",
    "my_dbms.kernel_version"
   ]
  },
  {
   "cell_type": "markdown",
   "metadata": {},
   "source": [
    "#### Exemplo 1: Recuperar o seu nome."
   ]
  },
  {
   "cell_type": "code",
   "execution_count": 3,
   "metadata": {
    "collapsed": false
   },
   "outputs": [
    {
     "data": {
      "text/plain": [
       "[{'u.name': 'Daniel Lins'}]"
      ]
     },
     "execution_count": 3,
     "metadata": {},
     "output_type": "execute_result"
    }
   ],
   "source": [
    "query = \"\"\"\n",
    "MATCH (u:User)\n",
    "WHERE u.screen_name = {name}\n",
    "RETURN u.name;\n",
    "\"\"\"\n",
    "\n",
    "graph.run(query, name=\"daniellinssilva\").data()"
   ]
  },
  {
   "cell_type": "markdown",
   "metadata": {},
   "source": [
    "#### Exemplo 2: Recuperar os usuários que mais mencionaram você."
   ]
  },
  {
   "cell_type": "code",
   "execution_count": 9,
   "metadata": {
    "collapsed": false
   },
   "outputs": [
    {
     "data": {
      "text/plain": [
       "[{'count': 16, 'screen_name': 'MonicaAikawa'},\n",
       " {'count': 4, 'screen_name': 'naiandramorim'},\n",
       " {'count': 2, 'screen_name': 'jean_ssilva'},\n",
       " {'count': 2, 'screen_name': 'sciasxp'},\n",
       " {'count': 1, 'screen_name': 'reFlamengo'}]"
      ]
     },
     "execution_count": 9,
     "metadata": {},
     "output_type": "execute_result"
    }
   ],
   "source": [
    "query = \"\"\"\n",
    "MATCH (u:User)-[:POSTS]->(t:Tweet)-[:MENTIONS]->(m:User {screen_name:'daniellinssilva'})\n",
    "WHERE u.screen_name <> {name}\n",
    "RETURN u.screen_name AS screen_name, COUNT(u.screen_name) AS count \n",
    "ORDER BY count \n",
    "DESC LIMIT 5\n",
    "\"\"\"\n",
    "\n",
    "graph.run(query, name=\"daniellinssilva\").data()"
   ]
  },
  {
   "cell_type": "markdown",
   "metadata": {},
   "source": [
    "#### Recuperar a quantidade de usuários que seguem você e quem você segue."
   ]
  },
  {
   "cell_type": "code",
   "execution_count": 5,
   "metadata": {
    "collapsed": false
   },
   "outputs": [
    {
     "data": {
      "text/plain": [
       "([{'COUNT(relation)': 183}], [{'COUNT(relation)': 155}])"
      ]
     },
     "execution_count": 5,
     "metadata": {},
     "output_type": "execute_result"
    }
   ],
   "source": [
    "query = \"\"\"\n",
    "MATCH (me:User {screen_name: {name}})-[relation:FOLLOWS]->(friends)\n",
    "RETURN COUNT(relation)\n",
    "\"\"\"\n",
    "\n",
    "FOLLOWING = graph.run(query, name=\"daniellinssilva\").data()\n",
    "\n",
    "query = \"\"\"\n",
    "MATCH (me:User {screen_name: {name}})<-[relation:FOLLOWS]-(friends)\n",
    "RETURN COUNT(relation)\n",
    "\"\"\"\n",
    "FOLLOWERS = graph.run(query, name=\"daniellinssilva\").data()\n",
    "\n",
    "FOLLOWING, FOLLOWERS"
   ]
  },
  {
   "cell_type": "markdown",
   "metadata": {},
   "source": [
    "#### Recuperar os usuários que você segue e que também seguem você (followback)."
   ]
  },
  {
   "cell_type": "code",
   "execution_count": 6,
   "metadata": {
    "collapsed": false
   },
   "outputs": [
    {
     "data": {
      "text/plain": [
       "[{'f.name': 'Daniel Martínez, MSc'},\n",
       " {'f.name': 'Kaio Rafael'},\n",
       " {'f.name': 'Naiandra Amorim'},\n",
       " {'f.name': 'Structr'},\n",
       " {'f.name': 'Machine Learning'},\n",
       " {'f.name': 'R Programming Lang'},\n",
       " {'f.name': 'Nathan Tippy'},\n",
       " {'f.name': 'Mike Tamir, PhD'},\n",
       " {'f.name': 'SysCoding'},\n",
       " {'f.name': 'Renzo'},\n",
       " {'f.name': 'Bruno Pedro'},\n",
       " {'f.name': 'ZooSphere'}]"
      ]
     },
     "execution_count": 6,
     "metadata": {},
     "output_type": "execute_result"
    }
   ],
   "source": [
    "query = \"\"\"\n",
    "MATCH (me:User {screen_name: {name}})-[:FOLLOWS]->(f),\n",
    "      (f)-[:FOLLOWS]->(me)\n",
    "RETURN f.name\n",
    "\"\"\"\n",
    "\n",
    "graph.run(query, name=\"daniellinssilva\").data()"
   ]
  },
  {
   "cell_type": "markdown",
   "metadata": {},
   "source": [
    "#### Verificar as hashtags mais utilizadas nos tweets enviados pelos usuários que você segue.\n",
    "##### Organizar os resultados em um dataframe do Pandas facilita a utilização de diversas ferramentas para análise e visualização destes dados."
   ]
  },
  {
   "cell_type": "code",
   "execution_count": 7,
   "metadata": {
    "collapsed": false
   },
   "outputs": [
    {
     "data": {
      "text/html": [
       "<div>\n",
       "<table border=\"1\" class=\"dataframe\">\n",
       "  <thead>\n",
       "    <tr style=\"text-align: right;\">\n",
       "      <th></th>\n",
       "      <th>hashtag</th>\n",
       "      <th>tweets</th>\n",
       "    </tr>\n",
       "  </thead>\n",
       "  <tbody>\n",
       "    <tr>\n",
       "      <th>0</th>\n",
       "      <td>neo4j</td>\n",
       "      <td>55</td>\n",
       "    </tr>\n",
       "    <tr>\n",
       "      <th>1</th>\n",
       "      <td>oracle</td>\n",
       "      <td>8</td>\n",
       "    </tr>\n",
       "    <tr>\n",
       "      <th>2</th>\n",
       "      <td>couchbase</td>\n",
       "      <td>6</td>\n",
       "    </tr>\n",
       "    <tr>\n",
       "      <th>3</th>\n",
       "      <td>jdbc</td>\n",
       "      <td>6</td>\n",
       "    </tr>\n",
       "    <tr>\n",
       "      <th>4</th>\n",
       "      <td>datamodeling</td>\n",
       "      <td>4</td>\n",
       "    </tr>\n",
       "    <tr>\n",
       "      <th>5</th>\n",
       "      <td>nlp</td>\n",
       "      <td>4</td>\n",
       "    </tr>\n",
       "    <tr>\n",
       "      <th>6</th>\n",
       "      <td>graphdatabases</td>\n",
       "      <td>3</td>\n",
       "    </tr>\n",
       "    <tr>\n",
       "      <th>7</th>\n",
       "      <td>analytics</td>\n",
       "      <td>3</td>\n",
       "    </tr>\n",
       "    <tr>\n",
       "      <th>8</th>\n",
       "      <td>bigdata</td>\n",
       "      <td>3</td>\n",
       "    </tr>\n",
       "    <tr>\n",
       "      <th>9</th>\n",
       "      <td>graphdb</td>\n",
       "      <td>3</td>\n",
       "    </tr>\n",
       "  </tbody>\n",
       "</table>\n",
       "</div>"
      ],
      "text/plain": [
       "          hashtag  tweets\n",
       "0           neo4j      55\n",
       "1          oracle       8\n",
       "2       couchbase       6\n",
       "3            jdbc       6\n",
       "4    datamodeling       4\n",
       "5             nlp       4\n",
       "6  graphdatabases       3\n",
       "7       analytics       3\n",
       "8         bigdata       3\n",
       "9         graphdb       3"
      ]
     },
     "execution_count": 7,
     "metadata": {},
     "output_type": "execute_result"
    }
   ],
   "source": [
    "import pandas as pd\n",
    "\n",
    "query = \"\"\"\n",
    "MATCH (me:User)-[:FOLLOWS]->(u:User)-[:POSTS]-(t:Tweet)-[:TAGS]->(h:Hashtag)\n",
    "WHERE me.screen_name = {name}\n",
    "RETURN h.name AS hashtag, COUNT(t) AS tweets\n",
    "ORDER BY tweets DESC\n",
    "LIMIT 10\n",
    "\"\"\"\n",
    "\n",
    "results = graph.run(query, name=\"daniellinssilva\").data()\n",
    "\n",
    "df = pd.DataFrame(results)\n",
    "df"
   ]
  }
 ],
 "metadata": {
  "anaconda-cloud": {},
  "kernelspec": {
   "display_name": "Python [conda env:venv2]",
   "language": "python",
   "name": "conda-env-venv2-py"
  },
  "language_info": {
   "codemirror_mode": {
    "name": "ipython",
    "version": 3
   },
   "file_extension": ".py",
   "mimetype": "text/x-python",
   "name": "python",
   "nbconvert_exporter": "python",
   "pygments_lexer": "ipython3",
   "version": "3.5.2"
  }
 },
 "nbformat": 4,
 "nbformat_minor": 1
}
