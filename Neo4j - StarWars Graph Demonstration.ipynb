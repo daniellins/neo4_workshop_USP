{
 "cells": [
  {
   "cell_type": "markdown",
   "metadata": {},
   "source": [
    "## Demonstração do Neo4j usando o py2neo e um grafo baseado nos personagens do filme Star Wars.\n",
    "\n",
    "Fonte: Adaptado de https://solutiondesign.com/blog/-/blogs/navigating-the-star-wars-universe-with-neo-1 (Andy McGrath)\n"
   ]
  },
  {
   "cell_type": "markdown",
   "metadata": {},
   "source": [
    "#### Acesso a base de dados do Neo4j"
   ]
  },
  {
   "cell_type": "code",
   "execution_count": 1,
   "metadata": {
    "collapsed": false
   },
   "outputs": [
    {
     "data": {
      "text/plain": [
       "(3, 0, 7)"
      ]
     },
     "execution_count": 1,
     "metadata": {},
     "output_type": "execute_result"
    }
   ],
   "source": [
    "from py2neo import Graph, authenticate, DBMS\n",
    "authenticate(\"localhost:7474\", \"neo4j\", \"123\")\n",
    "graph = Graph(\"http://localhost:7474/db/data/\")\n",
    "my_dbms = DBMS(\"http://localhost:7474\")\n",
    "my_dbms.kernel_version"
   ]
  },
  {
   "cell_type": "markdown",
   "metadata": {},
   "source": [
    "#### Deleção de todos os registros do banco de dados."
   ]
  },
  {
   "cell_type": "code",
   "execution_count": 2,
   "metadata": {
    "collapsed": false
   },
   "outputs": [
    {
     "data": {
      "text/plain": [
       "<py2neo.database.Cursor at 0x7f7a7e163780>"
      ]
     },
     "execution_count": 2,
     "metadata": {},
     "output_type": "execute_result"
    }
   ],
   "source": [
    "query = \"\"\"\n",
    "MATCH (n) DETACH DELETE n\n",
    "\"\"\"\n",
    "\n",
    "results = graph.run(query)\n",
    "results"
   ]
  },
  {
   "cell_type": "markdown",
   "metadata": {},
   "source": [
    "#### Criação da base de dados considerada, baseada no filme Star Wars."
   ]
  },
  {
   "cell_type": "code",
   "execution_count": 3,
   "metadata": {
    "collapsed": false
   },
   "outputs": [
    {
     "data": {
      "text/plain": [
       "<py2neo.database.Cursor at 0x7f7a941e96a0>"
      ]
     },
     "execution_count": 3,
     "metadata": {},
     "output_type": "execute_result"
    }
   ],
   "source": [
    "query = \"\"\"\n",
    "CREATE\n",
    "(LUKE {name:\"Luke Skywalker\"}),\n",
    "(HAN {name:\"Han Solo\"}),\n",
    "(LEIA {name:\"Princess Leia Organa\"}),\n",
    "(OBI_WAN {name:\"Obi-Wan Kenobi\"}),\n",
    "(YODA {name : \"Yoda\"}),\n",
    "(TARKIN {name:\"Grand Moff Tarkin\"}),\n",
    "(VADER {name:\"Dark Vader\"}),\n",
    "(C3PO {name:\"C3PO\", droid:true}),\n",
    "(R2D2 {name:\"R2D2\", droid:true}),\n",
    "(BOBA_FETT {name:\"Boba Fett\"}),\n",
    "(JABBA {name:\"Jabba the Hut\"}),\n",
    "(GREEDO {name:\"Greedo\"}),\n",
    "(CHEWBACCA {name:\"Chewbacca\"}),\n",
    "\n",
    "(TATOOINE {name:\"Tatooine\", distance:13184}),\n",
    "(DAGOBAH {name:\"Dagobah\", distance:15407}),\n",
    "(ALDERAAN {name:\"Alderaan\", distance:1502}),\n",
    "(CORUSCANT {name:\"Coruscant\", distance:3066}),\n",
    "(CORELLIA {name:\"Corellia\", distance:2453}),\n",
    "(KASHYYYK {name:\"Kashyyyk\", distance:9811}),\n",
    "\n",
    "(JEDI {name:\"Jedi\"}),\n",
    "(SITH {name:\"Sith\"}),\n",
    "(REBELLION {name:\"Rebellion\"}),\n",
    "(EMPIRE {name:\"Empire\"}),\n",
    "(HIGHEST_BIDDER {name:\"Highest Bidder\"}),\n",
    "(DARK_SIDE {name:\"Dark Side\"}),\n",
    "(LIGHT_SIDE {name:\"Light Side\"}),\n",
    "\n",
    "(LUKE)-[:FRIENDS_WITH]->(HAN),\n",
    "(LUKE)-[:FRIENDS_WITH]->(LEIA),\n",
    "(HAN)-[:FRIENDS_WITH]->(CHEWBACCA),\n",
    "\n",
    "(YODA)-[:TEACHES]->(OBI_WAN),\n",
    "(YODA)-[:TEACHES]->(LUKE),\n",
    "(OBI_WAN)-[:TEACHES]->(LUKE),\n",
    "\n",
    "(OBI_WAN)-[:KNOWS]->(VADER),\n",
    "(TARKIN)-[:KNOWS]->(VADER),\n",
    "(VADER)-[:KNOWS]->(YODA),\n",
    "(VADER)-[:KNOWS]->(LEIA),\n",
    "(LEIA)-[:KNOWS]->(LUKE),\n",
    "(LUKE)-[:KNOWS]->(YODA),\n",
    "(TARKIN)-[:KNOWS]->(BOBA_FETT),\n",
    "(BOBA_FETT)-[:KNOWS]->(JABBA),\n",
    "(JABBA)-[:KNOWS]->(GREEDO),\n",
    "(LUKE)-[:KNOWS]->(R2D2),\n",
    "(R2D2)-[:KNOWS]->(C3PO),\n",
    "(VADER)-[:KNOWS]->(C3PO),\n",
    "\n",
    "(LUKE)-[:LIVED_ON]->(TATOOINE),\n",
    "(HAN)-[:LIVED_ON]->(CORELLIA),\n",
    "(LEIA)-[:LIVED_ON]->(ALDERAAN),\n",
    "(YODA)-[:LIVED_ON]->(DAGOBAH),\n",
    "(VADER)-[:LIVED_ON]->(TATOOINE),\n",
    "(CHEWBACCA)-[:LIVED_ON]->(KASHYYYK),\n",
    "(OBI_WAN)-[:LIVED_ON]->(TATOOINE),\n",
    "(TARKIN)-[:LIVED_ON]->(CORUSCANT),\n",
    "\n",
    "(LUKE)-[:DEVOTED_TO]->(JEDI),\n",
    "(LUKE)-[:DEVOTED_TO]->(REBELLION),\n",
    "(LUKE)-[:DEVOTED_TO]->(LIGHT_SIDE),\n",
    "(VADER)-[:DEVOTED_TO]->(SITH),\n",
    "(VADER)-[:DEVOTED_TO]->(EMPIRE),\n",
    "(VADER)-[:DEVOTED_TO]->(DARK_SIDE),\n",
    "(LEIA)-[:DEVOTED_TO]->(REBELLION),\n",
    "(HAN)-[:DEVOTED_TO]->(REBELLION),\n",
    "(TARKIN)-[:DEVOTED_TO]->(EMPIRE),\n",
    "(BOBA_FETT)-[:DEVOTED_TO]->(HIGHEST_BIDDER),\n",
    "(OBI_WAN)-[:DEVOTED_TO]->(JEDI),\n",
    "(OBI_WAN)-[:DEVOTED_TO]->(REBELLION),\n",
    "(OBI_WAN)-[:DEVOTED_TO]->(LIGHT_SIDE),\n",
    "(YODA)-[:DEVOTED_TO]->(JEDI),\n",
    "(YODA)-[:DEVOTED_TO]->(REBELLION),\n",
    "(YODA)-[:DEVOTED_TO]->(LIGHT_SIDE)\n",
    "\"\"\"\n",
    "\n",
    "graph.run(query)"
   ]
  },
  {
   "cell_type": "markdown",
   "metadata": {},
   "source": [
    "#### Consulta de todas as relações associadas ao \"Obi-Wan Kenobi\"."
   ]
  },
  {
   "cell_type": "code",
   "execution_count": 5,
   "metadata": {
    "collapsed": false
   },
   "outputs": [
    {
     "data": {
      "text/html": [
       "<div>\n",
       "<table border=\"1\" class=\"dataframe\">\n",
       "  <thead>\n",
       "    <tr style=\"text-align: right;\">\n",
       "      <th></th>\n",
       "      <th>c.name</th>\n",
       "      <th>m.name</th>\n",
       "      <th>type(r)</th>\n",
       "    </tr>\n",
       "  </thead>\n",
       "  <tbody>\n",
       "    <tr>\n",
       "      <th>0</th>\n",
       "      <td>Obi-Wan Kenobi</td>\n",
       "      <td>Luke Skywalker</td>\n",
       "      <td>TEACHES</td>\n",
       "    </tr>\n",
       "    <tr>\n",
       "      <th>1</th>\n",
       "      <td>Obi-Wan Kenobi</td>\n",
       "      <td>Dark Vader</td>\n",
       "      <td>KNOWS</td>\n",
       "    </tr>\n",
       "    <tr>\n",
       "      <th>2</th>\n",
       "      <td>Obi-Wan Kenobi</td>\n",
       "      <td>Yoda</td>\n",
       "      <td>TEACHES</td>\n",
       "    </tr>\n",
       "    <tr>\n",
       "      <th>3</th>\n",
       "      <td>Obi-Wan Kenobi</td>\n",
       "      <td>Light Side</td>\n",
       "      <td>DEVOTED_TO</td>\n",
       "    </tr>\n",
       "    <tr>\n",
       "      <th>4</th>\n",
       "      <td>Obi-Wan Kenobi</td>\n",
       "      <td>Jedi</td>\n",
       "      <td>DEVOTED_TO</td>\n",
       "    </tr>\n",
       "    <tr>\n",
       "      <th>5</th>\n",
       "      <td>Obi-Wan Kenobi</td>\n",
       "      <td>Rebellion</td>\n",
       "      <td>DEVOTED_TO</td>\n",
       "    </tr>\n",
       "    <tr>\n",
       "      <th>6</th>\n",
       "      <td>Obi-Wan Kenobi</td>\n",
       "      <td>Tatooine</td>\n",
       "      <td>LIVED_ON</td>\n",
       "    </tr>\n",
       "  </tbody>\n",
       "</table>\n",
       "</div>"
      ],
      "text/plain": [
       "           c.name          m.name     type(r)\n",
       "0  Obi-Wan Kenobi  Luke Skywalker     TEACHES\n",
       "1  Obi-Wan Kenobi      Dark Vader       KNOWS\n",
       "2  Obi-Wan Kenobi            Yoda     TEACHES\n",
       "3  Obi-Wan Kenobi      Light Side  DEVOTED_TO\n",
       "4  Obi-Wan Kenobi            Jedi  DEVOTED_TO\n",
       "5  Obi-Wan Kenobi       Rebellion  DEVOTED_TO\n",
       "6  Obi-Wan Kenobi        Tatooine    LIVED_ON"
      ]
     },
     "execution_count": 5,
     "metadata": {},
     "output_type": "execute_result"
    }
   ],
   "source": [
    "import pandas as pd\n",
    "\n",
    "query = \"\"\"\n",
    "MATCH (c{name:\"Obi-Wan Kenobi\"})-[r]-(m) \n",
    "RETURN c.name, type(r), m.name;\n",
    "\"\"\"\n",
    "\n",
    "results = graph.run(query).data()\n",
    "\n",
    "df = pd.DataFrame(results)\n",
    "df"
   ]
  },
  {
   "cell_type": "markdown",
   "metadata": {},
   "source": [
    "#### Consulta de todos os personagens que foram mestres ou aprendizes do \"Obi-Wan Kenobi\".\n",
    "- Se ficou em dúvida em relação ao Yoda ter treinado o Obi-Wan, veja http://starwars.wikia.com/wiki/Obi-wan."
   ]
  },
  {
   "cell_type": "code",
   "execution_count": 6,
   "metadata": {
    "collapsed": false
   },
   "outputs": [
    {
     "data": {
      "text/html": [
       "<div>\n",
       "<table border=\"1\" class=\"dataframe\">\n",
       "  <thead>\n",
       "    <tr style=\"text-align: right;\">\n",
       "      <th></th>\n",
       "      <th>d.name</th>\n",
       "    </tr>\n",
       "  </thead>\n",
       "  <tbody>\n",
       "    <tr>\n",
       "      <th>0</th>\n",
       "      <td>Luke Skywalker</td>\n",
       "    </tr>\n",
       "    <tr>\n",
       "      <th>1</th>\n",
       "      <td>Yoda</td>\n",
       "    </tr>\n",
       "  </tbody>\n",
       "</table>\n",
       "</div>"
      ],
      "text/plain": [
       "           d.name\n",
       "0  Luke Skywalker\n",
       "1            Yoda"
      ]
     },
     "execution_count": 6,
     "metadata": {},
     "output_type": "execute_result"
    }
   ],
   "source": [
    "query = \"\"\"\n",
    "MATCH (c{name:\"Obi-Wan Kenobi\"})-[:TEACHES]-(d) \n",
    "RETURN DISTINCT  d.name;\n",
    "\"\"\"\n",
    "\n",
    "results = graph.run(query).data()\n",
    "\n",
    "df = pd.DataFrame(results)\n",
    "df"
   ]
  },
  {
   "cell_type": "markdown",
   "metadata": {},
   "source": [
    " #### Consulta dos conhecidos dos conhecidos (Friend-Of-Friend) do \"Obi-Wan Kenobi\"."
   ]
  },
  {
   "cell_type": "code",
   "execution_count": 7,
   "metadata": {
    "collapsed": false
   },
   "outputs": [
    {
     "data": {
      "text/html": [
       "<div>\n",
       "<table border=\"1\" class=\"dataframe\">\n",
       "  <thead>\n",
       "    <tr style=\"text-align: right;\">\n",
       "      <th></th>\n",
       "      <th>d.name</th>\n",
       "    </tr>\n",
       "  </thead>\n",
       "  <tbody>\n",
       "    <tr>\n",
       "      <th>0</th>\n",
       "      <td>Yoda</td>\n",
       "    </tr>\n",
       "    <tr>\n",
       "      <th>1</th>\n",
       "      <td>Han Solo</td>\n",
       "    </tr>\n",
       "    <tr>\n",
       "      <th>2</th>\n",
       "      <td>Princess Leia Organa</td>\n",
       "    </tr>\n",
       "    <tr>\n",
       "      <th>3</th>\n",
       "      <td>R2D2</td>\n",
       "    </tr>\n",
       "    <tr>\n",
       "      <th>4</th>\n",
       "      <td>Luke Skywalker</td>\n",
       "    </tr>\n",
       "    <tr>\n",
       "      <th>5</th>\n",
       "      <td>Dark Vader</td>\n",
       "    </tr>\n",
       "  </tbody>\n",
       "</table>\n",
       "</div>"
      ],
      "text/plain": [
       "                 d.name\n",
       "0                  Yoda\n",
       "1              Han Solo\n",
       "2  Princess Leia Organa\n",
       "3                  R2D2\n",
       "4        Luke Skywalker\n",
       "5            Dark Vader"
      ]
     },
     "execution_count": 7,
     "metadata": {},
     "output_type": "execute_result"
    }
   ],
   "source": [
    "query = \"\"\"\n",
    "MATCH (c{name:\"Obi-Wan Kenobi\"})-[:TEACHES|FRIENDS_WITH]-(m)-[:KNOWS|TEACHES|FRIENDS_WITH]-(d) \n",
    "RETURN DISTINCT  d.name;\n",
    "\"\"\"\n",
    "\n",
    "results = graph.run(query).data()\n",
    "\n",
    "df = pd.DataFrame(results)\n",
    "df"
   ]
  },
  {
   "cell_type": "markdown",
   "metadata": {},
   "source": [
    "#### Retirando da consulta anterior os inimigos (Siths)."
   ]
  },
  {
   "cell_type": "code",
   "execution_count": 8,
   "metadata": {
    "collapsed": false
   },
   "outputs": [
    {
     "data": {
      "text/html": [
       "<div>\n",
       "<table border=\"1\" class=\"dataframe\">\n",
       "  <thead>\n",
       "    <tr style=\"text-align: right;\">\n",
       "      <th></th>\n",
       "      <th>d.name</th>\n",
       "    </tr>\n",
       "  </thead>\n",
       "  <tbody>\n",
       "    <tr>\n",
       "      <th>0</th>\n",
       "      <td>Yoda</td>\n",
       "    </tr>\n",
       "    <tr>\n",
       "      <th>1</th>\n",
       "      <td>Han Solo</td>\n",
       "    </tr>\n",
       "    <tr>\n",
       "      <th>2</th>\n",
       "      <td>Princess Leia Organa</td>\n",
       "    </tr>\n",
       "    <tr>\n",
       "      <th>3</th>\n",
       "      <td>R2D2</td>\n",
       "    </tr>\n",
       "    <tr>\n",
       "      <th>4</th>\n",
       "      <td>Luke Skywalker</td>\n",
       "    </tr>\n",
       "  </tbody>\n",
       "</table>\n",
       "</div>"
      ],
      "text/plain": [
       "                 d.name\n",
       "0                  Yoda\n",
       "1              Han Solo\n",
       "2  Princess Leia Organa\n",
       "3                  R2D2\n",
       "4        Luke Skywalker"
      ]
     },
     "execution_count": 8,
     "metadata": {},
     "output_type": "execute_result"
    }
   ],
   "source": [
    "query = \"\"\"\n",
    "MATCH (c{name:\"Obi-Wan Kenobi\"})-[:TEACHES|FRIENDS_WITH]-(m)-[:KNOWS|TEACHES|FRIENDS_WITH]-(d) \n",
    "WHERE NOT ((d)-[]-({name:\"Sith\"}))\n",
    "RETURN DISTINCT  d.name;\n",
    "\"\"\"\n",
    "\n",
    "results = graph.run(query).data()\n",
    "\n",
    "df = pd.DataFrame(results)\n",
    "df"
   ]
  },
  {
   "cell_type": "code",
   "execution_count": null,
   "metadata": {
    "collapsed": true
   },
   "outputs": [],
   "source": []
  }
 ],
 "metadata": {
  "anaconda-cloud": {},
  "kernelspec": {
   "display_name": "Python [default]",
   "language": "python",
   "name": "python3"
  },
  "language_info": {
   "codemirror_mode": {
    "name": "ipython",
    "version": 3
   },
   "file_extension": ".py",
   "mimetype": "text/x-python",
   "name": "python",
   "nbconvert_exporter": "python",
   "pygments_lexer": "ipython3",
   "version": "3.5.2"
  }
 },
 "nbformat": 4,
 "nbformat_minor": 1
}
